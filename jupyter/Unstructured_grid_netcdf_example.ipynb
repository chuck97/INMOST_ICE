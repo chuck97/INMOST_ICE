{
 "cells": [
  {
   "cell_type": "code",
   "execution_count": 1,
   "metadata": {},
   "outputs": [],
   "source": [
    "import xarray as xr\n",
    "import matplotlib.pyplot as plt\n",
    "import numpy as np\n",
    "from netCDF4 import Dataset"
   ]
  },
  {
   "cell_type": "code",
   "execution_count": 2,
   "metadata": {},
   "outputs": [],
   "source": [
    "test_dataset = Dataset(\"./test.nc\", \"w\", format=\"NETCDF4\")"
   ]
  },
  {
   "cell_type": "code",
   "execution_count": 3,
   "metadata": {},
   "outputs": [
    {
     "data": {
      "text/plain": [
       "<class 'netCDF4._netCDF4.Dimension'>: name = 'lon', size = 144"
      ]
     },
     "execution_count": 3,
     "metadata": {},
     "output_type": "execute_result"
    }
   ],
   "source": [
    "#dimensions\n",
    "test_dataset.createDimension(\"level\", None)\n",
    "test_dataset.createDimension(\"time\", None)\n",
    "test_dataset.createDimension(\"lat\", 73)\n",
    "test_dataset.createDimension(\"lon\", 144)"
   ]
  },
  {
   "cell_type": "code",
   "execution_count": 4,
   "metadata": {},
   "outputs": [],
   "source": [
    "#variables declaration\n",
    "times = test_dataset.createVariable(\"time\", 'd', (\"time\"))\n",
    "lats = test_dataset.createVariable(\"lat\", 'd', ('lat'))\n",
    "lons = test_dataset.createVariable(\"lon\", 'd', ('lon'))\n",
    "levels = test_dataset.createVariable(\"level\", 'd', (\"level\"))\n",
    "temp = test_dataset.createVariable(\"temp\", 'd', \n",
    "                (\"time\", \"level\", \"lat\", \"lon\"))"
   ]
  },
  {
   "cell_type": "code",
   "execution_count": 5,
   "metadata": {},
   "outputs": [],
   "source": [
    "#variables atributes and global atributes\n",
    "test_dataset.description = \"example dataset\"\n",
    "lats.units = \"degrees north\"\n",
    "lons.units = \"degrees east\"\n",
    "levels.units = \"hPa\"\n",
    "times.units = \"hours after start\""
   ]
  },
  {
   "cell_type": "code",
   "execution_count": 6,
   "metadata": {},
   "outputs": [],
   "source": [
    "#fill variables with data\n",
    "lats = np.arange(-90.0, 91.0, 2.5)\n",
    "lons = np.arange(-180.0, 180.0, 2.5)\n",
    "temp[0:5, 0:10, :, :] = np.random.uniform(size=(5, 10,\n",
    "                                         len(test_dataset.dimensions[\"lat\"]),\n",
    "                                         len(test_dataset.dimensions[\"lon\"])))\n",
    "levels = [1000.,850.,700.,500.,300.,250.,200.,150.,100.,50.]"
   ]
  },
  {
   "cell_type": "code",
   "execution_count": 7,
   "metadata": {},
   "outputs": [],
   "source": [
    "test_dataset.close()\n",
    "data = xr.open_dataset(\"./test.nc\")"
   ]
  },
  {
   "cell_type": "code",
   "execution_count": 15,
   "metadata": {},
   "outputs": [
    {
     "data": {
      "text/plain": [
       "<matplotlib.collections.QuadMesh at 0x7fed074eb080>"
      ]
     },
     "execution_count": 15,
     "metadata": {},
     "output_type": "execute_result"
    },
    {
     "data": {
      "image/png": "[encoded data removed]",
      "text/plain": [
       "<Figure size 432x288 with 2 Axes>"
      ]
     },
     "metadata": {
      "needs_background": "light"
     },
     "output_type": "display_data"
    }
   ],
   "source": [
    "data[\"temp\"][1][0].plot()"
   ]
  },
  {
   "cell_type": "code",
   "execution_count": null,
   "metadata": {},
   "outputs": [],
   "source": []
  }
 ],
 "metadata": {
  "kernelspec": {
   "display_name": "Python 3",
   "language": "python",
   "name": "python3"
  },
  "language_info": {
   "codemirror_mode": {
    "name": "ipython",
    "version": 3
   },
   "file_extension": ".py",
   "mimetype": "text/x-python",
   "name": "python",
   "nbconvert_exporter": "python",
   "pygments_lexer": "ipython3",
   "version": "3.6.9"
  }
 },
 "nbformat": 4,
 "nbformat_minor": 4
}
